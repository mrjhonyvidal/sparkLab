{
  "nbformat": 4,
  "nbformat_minor": 0,
  "metadata": {
    "colab": {
      "name": "LinearRegresion.ipynb",
      "provenance": [],
      "collapsed_sections": []
    },
    "kernelspec": {
      "name": "python3",
      "display_name": "Python 3"
    }
  },
  "cells": [
    {
      "cell_type": "code",
      "metadata": {
        "colab": {
          "base_uri": "https://localhost:8080/"
        },
        "id": "pHaAUBtVGdiC",
        "outputId": "fbb50e2e-3e21-410c-92b7-362513ea94c9"
      },
      "source": [
        "!pip install pyspark"
      ],
      "execution_count": 2,
      "outputs": [
        {
          "output_type": "stream",
          "text": [
            "Requirement already satisfied: pyspark in /usr/local/lib/python3.6/dist-packages (3.0.1)\n",
            "Requirement already satisfied: py4j==0.10.9 in /usr/local/lib/python3.6/dist-packages (from pyspark) (0.10.9)\n"
          ],
          "name": "stdout"
        }
      ]
    },
    {
      "cell_type": "code",
      "metadata": {
        "id": "Ik7V_4CHGeTp"
      },
      "source": [
        "from pyspark import SparkContext"
      ],
      "execution_count": 3,
      "outputs": []
    },
    {
      "cell_type": "code",
      "metadata": {
        "id": "ZHldk31Pa8PG"
      },
      "source": [
        "from pyspark.sql import SparkSession"
      ],
      "execution_count": 4,
      "outputs": []
    },
    {
      "cell_type": "code",
      "metadata": {
        "id": "1QzAGlA2bABF"
      },
      "source": [
        " spark = SparkSession.builder.appName('reg').getOrCreate()"
      ],
      "execution_count": 5,
      "outputs": []
    },
    {
      "cell_type": "code",
      "metadata": {
        "id": "El494KPpdrCe"
      },
      "source": [
        "from pyspark.ml.regression import LinearRegression"
      ],
      "execution_count": 6,
      "outputs": []
    },
    {
      "cell_type": "code",
      "metadata": {
        "id": "QG6Kd3bEdwIm"
      },
      "source": [
        "train = spark.read.format(\"libsvm\").load(\"sample_linear_regression_data.txt\")"
      ],
      "execution_count": 8,
      "outputs": []
    },
    {
      "cell_type": "code",
      "metadata": {
        "colab": {
          "base_uri": "https://localhost:8080/"
        },
        "id": "O1Xe1fexfC6r",
        "outputId": "94be058b-a373-4c3a-e40e-aa2a9a8f61bd"
      },
      "source": [
        "train.show()"
      ],
      "execution_count": 9,
      "outputs": [
        {
          "output_type": "stream",
          "text": [
            "+-------------------+--------------------+\n",
            "|              label|            features|\n",
            "+-------------------+--------------------+\n",
            "| -9.490009878824548|(10,[0,1,2,3,4,5,...|\n",
            "| 0.2577820163584905|(10,[0,1,2,3,4,5,...|\n",
            "| -4.438869807456516|(10,[0,1,2,3,4,5,...|\n",
            "|-19.782762789614537|(10,[0,1,2,3,4,5,...|\n",
            "| -7.966593841555266|(10,[0,1,2,3,4,5,...|\n",
            "| -7.896274316726144|(10,[0,1,2,3,4,5,...|\n",
            "| -8.464803554195287|(10,[0,1,2,3,4,5,...|\n",
            "| 2.1214592666251364|(10,[0,1,2,3,4,5,...|\n",
            "| 1.0720117616524107|(10,[0,1,2,3,4,5,...|\n",
            "|-13.772441561702871|(10,[0,1,2,3,4,5,...|\n",
            "| -5.082010756207233|(10,[0,1,2,3,4,5,...|\n",
            "|  7.887786536531237|(10,[0,1,2,3,4,5,...|\n",
            "| 14.323146365332388|(10,[0,1,2,3,4,5,...|\n",
            "|-20.057482615789212|(10,[0,1,2,3,4,5,...|\n",
            "|-0.8995693247765151|(10,[0,1,2,3,4,5,...|\n",
            "| -19.16829262296376|(10,[0,1,2,3,4,5,...|\n",
            "|  5.601801561245534|(10,[0,1,2,3,4,5,...|\n",
            "|-3.2256352187273354|(10,[0,1,2,3,4,5,...|\n",
            "| 1.5299675726687754|(10,[0,1,2,3,4,5,...|\n",
            "| -0.250102447941961|(10,[0,1,2,3,4,5,...|\n",
            "+-------------------+--------------------+\n",
            "only showing top 20 rows\n",
            "\n"
          ],
          "name": "stdout"
        }
      ]
    },
    {
      "cell_type": "code",
      "metadata": {
        "id": "KMwPsfZVfNb2"
      },
      "source": [
        "lr = LinearRegression(featuresCol = 'features', labelCol = 'label', predictionCol =  'prediction')"
      ],
      "execution_count": 11,
      "outputs": []
    },
    {
      "cell_type": "code",
      "metadata": {
        "id": "ZOJM6VQDgA8K"
      },
      "source": [
        "modelo = lr.fit(train)"
      ],
      "execution_count": 12,
      "outputs": []
    },
    {
      "cell_type": "code",
      "metadata": {
        "colab": {
          "base_uri": "https://localhost:8080/"
        },
        "id": "Ny43CiiahCYp",
        "outputId": "cda9f7f4-bad5-4e53-e608-c4263d5f3382"
      },
      "source": [
        "modelo.coefficients"
      ],
      "execution_count": 13,
      "outputs": [
        {
          "output_type": "execute_result",
          "data": {
            "text/plain": [
              "DenseVector([0.0073, 0.8314, -0.8095, 2.4412, 0.5192, 1.1535, -0.2989, -0.5129, -0.6197, 0.6956])"
            ]
          },
          "metadata": {
            "tags": []
          },
          "execution_count": 13
        }
      ]
    },
    {
      "cell_type": "code",
      "metadata": {
        "colab": {
          "base_uri": "https://localhost:8080/"
        },
        "id": "ibOzII-ShEnF",
        "outputId": "35c53a1d-5699-4d2f-e26e-e9871d1b88fe"
      },
      "source": [
        " modelo.intercept"
      ],
      "execution_count": 14,
      "outputs": [
        {
          "output_type": "execute_result",
          "data": {
            "text/plain": [
              "0.14228558260358093"
            ]
          },
          "metadata": {
            "tags": []
          },
          "execution_count": 14
        }
      ]
    },
    {
      "cell_type": "code",
      "metadata": {
        "id": "2IAYcvYShWex"
      },
      "source": [
        " summary = modelo.summary"
      ],
      "execution_count": 15,
      "outputs": []
    },
    {
      "cell_type": "code",
      "metadata": {
        "colab": {
          "base_uri": "https://localhost:8080/"
        },
        "id": "JSLYdHU7h-il",
        "outputId": "37360eb2-3139-42dc-ed6a-7932c763cf53"
      },
      "source": [
        "summary.predictions.show()"
      ],
      "execution_count": 17,
      "outputs": [
        {
          "output_type": "stream",
          "text": [
            "+-------------------+--------------------+--------------------+\n",
            "|              label|            features|          prediction|\n",
            "+-------------------+--------------------+--------------------+\n",
            "| -9.490009878824548|(10,[0,1,2,3,4,5,...|  1.5211201432720063|\n",
            "| 0.2577820163584905|(10,[0,1,2,3,4,5,...| -0.6658770747591632|\n",
            "| -4.438869807456516|(10,[0,1,2,3,4,5,...|  0.1568703823211514|\n",
            "|-19.782762789614537|(10,[0,1,2,3,4,5,...|  0.6374146679690593|\n",
            "| -7.966593841555266|(10,[0,1,2,3,4,5,...|   2.372566473232916|\n",
            "| -7.896274316726144|(10,[0,1,2,3,4,5,...| -1.9410651727650883|\n",
            "| -8.464803554195287|(10,[0,1,2,3,4,5,...|  2.2621027950886363|\n",
            "| 2.1214592666251364|(10,[0,1,2,3,4,5,...|-0.00134792656609...|\n",
            "| 1.0720117616524107|(10,[0,1,2,3,4,5,...| -3.0051104606414007|\n",
            "|-13.772441561702871|(10,[0,1,2,3,4,5,...|  3.5437265095387804|\n",
            "| -5.082010756207233|(10,[0,1,2,3,4,5,...| -0.4889664122481736|\n",
            "|  7.887786536531237|(10,[0,1,2,3,4,5,...|  1.5073098457843013|\n",
            "| 14.323146365332388|(10,[0,1,2,3,4,5,...|   3.002580330272542|\n",
            "|-20.057482615789212|(10,[0,1,2,3,4,5,...|  0.6644891587448811|\n",
            "|-0.8995693247765151|(10,[0,1,2,3,4,5,...|   1.837123449000886|\n",
            "| -19.16829262296376|(10,[0,1,2,3,4,5,...|  -2.499423280435292|\n",
            "|  5.601801561245534|(10,[0,1,2,3,4,5,...|  -2.640384817630781|\n",
            "|-3.2256352187273354|(10,[0,1,2,3,4,5,...|  -1.853286585458312|\n",
            "| 1.5299675726687754|(10,[0,1,2,3,4,5,...|   2.236000785795242|\n",
            "| -0.250102447941961|(10,[0,1,2,3,4,5,...|  0.9090111490574454|\n",
            "+-------------------+--------------------+--------------------+\n",
            "only showing top 20 rows\n",
            "\n"
          ],
          "name": "stdout"
        }
      ]
    },
    {
      "cell_type": "code",
      "metadata": {
        "colab": {
          "base_uri": "https://localhost:8080/"
        },
        "id": "_aPWEMi0iCLZ",
        "outputId": "ee58cc1c-e7dc-4160-f881-57c05677352d"
      },
      "source": [
        "summary.rootMeanSquaredError"
      ],
      "execution_count": 18,
      "outputs": [
        {
          "output_type": "execute_result",
          "data": {
            "text/plain": [
              "10.16309157133015"
            ]
          },
          "metadata": {
            "tags": []
          },
          "execution_count": 18
        }
      ]
    },
    {
      "cell_type": "code",
      "metadata": {
        "colab": {
          "base_uri": "https://localhost:8080/"
        },
        "id": "iVY610i1iJcx",
        "outputId": "a32569f4-45b2-43d9-900b-16a9261fd33a"
      },
      "source": [
        "summary.r2"
      ],
      "execution_count": 19,
      "outputs": [
        {
          "output_type": "execute_result",
          "data": {
            "text/plain": [
              "0.027839179518600154"
            ]
          },
          "metadata": {
            "tags": []
          },
          "execution_count": 19
        }
      ]
    },
    {
      "cell_type": "code",
      "metadata": {
        "id": "CdTS5Vh_iL02"
      },
      "source": [
        "## Split the data set"
      ],
      "execution_count": 20,
      "outputs": []
    },
    {
      "cell_type": "code",
      "metadata": {
        "id": "Q6ky6qvUiTX1"
      },
      "source": [
        " data = spark.read.format(\"libsvm\").load(\"sample_linear_regression_data.txt\")"
      ],
      "execution_count": 25,
      "outputs": []
    },
    {
      "cell_type": "code",
      "metadata": {
        "id": "9jzJ71toiWlQ"
      },
      "source": [
        "split = data.randomSplit([0.7,0.3]) "
      ],
      "execution_count": 27,
      "outputs": []
    },
    {
      "cell_type": "code",
      "metadata": {
        "colab": {
          "base_uri": "https://localhost:8080/"
        },
        "id": "IpnJJ_fyidan",
        "outputId": "9a1a5ea7-74b9-406f-e05a-5d778bb72f8e"
      },
      "source": [
        " split"
      ],
      "execution_count": 23,
      "outputs": [
        {
          "output_type": "execute_result",
          "data": {
            "text/plain": [
              "[DataFrame[label: double, features: vector],\n",
              " DataFrame[label: double, features: vector]]"
            ]
          },
          "metadata": {
            "tags": []
          },
          "execution_count": 23
        }
      ]
    },
    {
      "cell_type": "code",
      "metadata": {
        "id": "B7-pT8PLie2U"
      },
      "source": [
        "train, test = data.randomSplit([0.7,0.3]) # Tuple unpacking "
      ],
      "execution_count": 28,
      "outputs": []
    },
    {
      "cell_type": "code",
      "metadata": {
        "colab": {
          "base_uri": "https://localhost:8080/"
        },
        "id": "qAmq68OOin16",
        "outputId": "cef0cd84-c5d9-4de2-e0a6-c3977145c615"
      },
      "source": [
        "train"
      ],
      "execution_count": 29,
      "outputs": [
        {
          "output_type": "execute_result",
          "data": {
            "text/plain": [
              "DataFrame[label: double, features: vector]"
            ]
          },
          "metadata": {
            "tags": []
          },
          "execution_count": 29
        }
      ]
    },
    {
      "cell_type": "code",
      "metadata": {
        "colab": {
          "base_uri": "https://localhost:8080/"
        },
        "id": "bm70H7TKit19",
        "outputId": "ca55b7f0-0ae4-4328-9e58-72b161dfa41f"
      },
      "source": [
        " test"
      ],
      "execution_count": 30,
      "outputs": [
        {
          "output_type": "execute_result",
          "data": {
            "text/plain": [
              "DataFrame[label: double, features: vector]"
            ]
          },
          "metadata": {
            "tags": []
          },
          "execution_count": 30
        }
      ]
    },
    {
      "cell_type": "code",
      "metadata": {
        "colab": {
          "base_uri": "https://localhost:8080/"
        },
        "id": "YHWPoX2Qiw97",
        "outputId": "941ba307-b336-4ca3-86e6-f320f40e8704"
      },
      "source": [
        "train.describe().show()"
      ],
      "execution_count": 31,
      "outputs": [
        {
          "output_type": "stream",
          "text": [
            "+-------+-------------------+\n",
            "|summary|              label|\n",
            "+-------+-------------------+\n",
            "|  count|                341|\n",
            "|   mean| 0.9163951185176094|\n",
            "| stddev|  9.922366653183223|\n",
            "|    min|-28.046018037776633|\n",
            "|    max|  27.78383192005107|\n",
            "+-------+-------------------+\n",
            "\n"
          ],
          "name": "stdout"
        }
      ]
    },
    {
      "cell_type": "code",
      "metadata": {
        "colab": {
          "base_uri": "https://localhost:8080/"
        },
        "id": "jQmge6Pmizt1",
        "outputId": "7d9b93d8-0950-405a-d2bf-10c1b41b8bdf"
      },
      "source": [
        " test.describe().show()"
      ],
      "execution_count": 32,
      "outputs": [
        {
          "output_type": "stream",
          "text": [
            "+-------+-------------------+\n",
            "|summary|              label|\n",
            "+-------+-------------------+\n",
            "|  count|                160|\n",
            "|   mean|-1.1486839718425947|\n",
            "| stddev| 11.014799648427012|\n",
            "|    min|-28.571478869743427|\n",
            "|    max| 24.290551295953957|\n",
            "+-------+-------------------+\n",
            "\n"
          ],
          "name": "stdout"
        }
      ]
    },
    {
      "cell_type": "code",
      "metadata": {
        "id": "GGjgUSKRi2zs"
      },
      "source": [
        " correct_model = lr.fit(train)"
      ],
      "execution_count": 33,
      "outputs": []
    },
    {
      "cell_type": "code",
      "metadata": {
        "id": "QNbbLMADi82v"
      },
      "source": [
        "results_test = correct_model.evaluate(test)"
      ],
      "execution_count": 34,
      "outputs": []
    },
    {
      "cell_type": "code",
      "metadata": {
        "colab": {
          "base_uri": "https://localhost:8080/"
        },
        "id": "pVmFgv_5jChC",
        "outputId": "438fc3ea-c17c-4843-a5fb-f479bcf42738"
      },
      "source": [
        "results_test.rootMeanSquaredError"
      ],
      "execution_count": 35,
      "outputs": [
        {
          "output_type": "execute_result",
          "data": {
            "text/plain": [
              "11.196608776431459"
            ]
          },
          "metadata": {
            "tags": []
          },
          "execution_count": 35
        }
      ]
    },
    {
      "cell_type": "code",
      "metadata": {
        "id": "wIysNXCwjFfR"
      },
      "source": [
        "data_without_label = test.select('features')"
      ],
      "execution_count": 36,
      "outputs": []
    },
    {
      "cell_type": "code",
      "metadata": {
        "colab": {
          "base_uri": "https://localhost:8080/"
        },
        "id": "IiRIc0TBjO95",
        "outputId": "8e40fc63-61fd-4789-9e03-849c6a68cb58"
      },
      "source": [
        "data_without_label.show()"
      ],
      "execution_count": 37,
      "outputs": [
        {
          "output_type": "stream",
          "text": [
            "+--------------------+\n",
            "|            features|\n",
            "+--------------------+\n",
            "|(10,[0,1,2,3,4,5,...|\n",
            "|(10,[0,1,2,3,4,5,...|\n",
            "|(10,[0,1,2,3,4,5,...|\n",
            "|(10,[0,1,2,3,4,5,...|\n",
            "|(10,[0,1,2,3,4,5,...|\n",
            "|(10,[0,1,2,3,4,5,...|\n",
            "|(10,[0,1,2,3,4,5,...|\n",
            "|(10,[0,1,2,3,4,5,...|\n",
            "|(10,[0,1,2,3,4,5,...|\n",
            "|(10,[0,1,2,3,4,5,...|\n",
            "|(10,[0,1,2,3,4,5,...|\n",
            "|(10,[0,1,2,3,4,5,...|\n",
            "|(10,[0,1,2,3,4,5,...|\n",
            "|(10,[0,1,2,3,4,5,...|\n",
            "|(10,[0,1,2,3,4,5,...|\n",
            "|(10,[0,1,2,3,4,5,...|\n",
            "|(10,[0,1,2,3,4,5,...|\n",
            "|(10,[0,1,2,3,4,5,...|\n",
            "|(10,[0,1,2,3,4,5,...|\n",
            "|(10,[0,1,2,3,4,5,...|\n",
            "+--------------------+\n",
            "only showing top 20 rows\n",
            "\n"
          ],
          "name": "stdout"
        }
      ]
    },
    {
      "cell_type": "code",
      "metadata": {
        "id": "T3rSLBcXjRlU"
      },
      "source": [
        " ## Evaluate our test data set"
      ],
      "execution_count": 38,
      "outputs": []
    },
    {
      "cell_type": "code",
      "metadata": {
        "id": "f5oZ3uA5jU8u"
      },
      "source": [
        "predictions = correct_model.transform(data_without_label)"
      ],
      "execution_count": 41,
      "outputs": []
    },
    {
      "cell_type": "code",
      "metadata": {
        "colab": {
          "base_uri": "https://localhost:8080/"
        },
        "id": "WZVyYDRBjdZF",
        "outputId": "9bdb02ae-1a0f-4ff1-f2e7-ddb3c7b4c8dc"
      },
      "source": [
        " predictions.show()"
      ],
      "execution_count": 42,
      "outputs": [
        {
          "output_type": "stream",
          "text": [
            "+--------------------+--------------------+\n",
            "|            features|          prediction|\n",
            "+--------------------+--------------------+\n",
            "|(10,[0,1,2,3,4,5,...|  0.3693721358488725|\n",
            "|(10,[0,1,2,3,4,5,...| -1.0589964369749683|\n",
            "|(10,[0,1,2,3,4,5,...|   -1.94736371021694|\n",
            "|(10,[0,1,2,3,4,5,...|  2.5508898573213576|\n",
            "|(10,[0,1,2,3,4,5,...| -1.7173145671204573|\n",
            "|(10,[0,1,2,3,4,5,...|  1.7940216103779472|\n",
            "|(10,[0,1,2,3,4,5,...| 0.32648078995131913|\n",
            "|(10,[0,1,2,3,4,5,...|   2.141771755834233|\n",
            "|(10,[0,1,2,3,4,5,...|  0.3499887245155041|\n",
            "|(10,[0,1,2,3,4,5,...| 0.15225105251858395|\n",
            "|(10,[0,1,2,3,4,5,...| 0.35638424910970967|\n",
            "|(10,[0,1,2,3,4,5,...|   3.371359979145224|\n",
            "|(10,[0,1,2,3,4,5,...|  0.2601099031737425|\n",
            "|(10,[0,1,2,3,4,5,...|  0.9628719587216745|\n",
            "|(10,[0,1,2,3,4,5,...|  1.3497565849104531|\n",
            "|(10,[0,1,2,3,4,5,...|   2.066720014647361|\n",
            "|(10,[0,1,2,3,4,5,...|0.007716562915414782|\n",
            "|(10,[0,1,2,3,4,5,...|  1.9070317536891794|\n",
            "|(10,[0,1,2,3,4,5,...|-0.26181112693516007|\n",
            "|(10,[0,1,2,3,4,5,...|-0.08332388834788096|\n",
            "+--------------------+--------------------+\n",
            "only showing top 20 rows\n",
            "\n"
          ],
          "name": "stdout"
        }
      ]
    },
    {
      "cell_type": "code",
      "metadata": {
        "id": "ewuchqjejki9"
      },
      "source": [
        ""
      ],
      "execution_count": null,
      "outputs": []
    }
  ]
}