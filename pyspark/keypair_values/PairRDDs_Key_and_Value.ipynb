{
  "nbformat": 4,
  "nbformat_minor": 0,
  "metadata": {
    "colab": {
      "name": "PairRDDs - Key and Value.ipynb",
      "provenance": [],
      "toc_visible": true
    },
    "kernelspec": {
      "name": "python3",
      "display_name": "Python 3"
    }
  },
  "cells": [
    {
      "cell_type": "code",
      "metadata": {
        "colab": {
          "base_uri": "https://localhost:8080/"
        },
        "id": "J539Jo7m7RzI",
        "outputId": "db5423c6-ff28-42ad-b8ad-cee8e9f158fa"
      },
      "source": [
        "!pip install pyspark"
      ],
      "execution_count": 2,
      "outputs": [
        {
          "output_type": "stream",
          "text": [
            "Collecting pyspark\n",
            "\u001b[?25l  Downloading https://files.pythonhosted.org/packages/f0/26/198fc8c0b98580f617cb03cb298c6056587b8f0447e20fa40c5b634ced77/pyspark-3.0.1.tar.gz (204.2MB)\n",
            "\u001b[K     |████████████████████████████████| 204.2MB 62kB/s \n",
            "\u001b[?25hCollecting py4j==0.10.9\n",
            "\u001b[?25l  Downloading https://files.pythonhosted.org/packages/9e/b6/6a4fb90cd235dc8e265a6a2067f2a2c99f0d91787f06aca4bcf7c23f3f80/py4j-0.10.9-py2.py3-none-any.whl (198kB)\n",
            "\u001b[K     |████████████████████████████████| 204kB 44.8MB/s \n",
            "\u001b[?25hBuilding wheels for collected packages: pyspark\n",
            "  Building wheel for pyspark (setup.py) ... \u001b[?25l\u001b[?25hdone\n",
            "  Created wheel for pyspark: filename=pyspark-3.0.1-py2.py3-none-any.whl size=204612243 sha256=cb5bf73c009b5cf8151c77e29b5062787f1f96c8242360436d7fd732d0dcfadd\n",
            "  Stored in directory: /root/.cache/pip/wheels/5e/bd/07/031766ca628adec8435bb40f0bd83bb676ce65ff4007f8e73f\n",
            "Successfully built pyspark\n",
            "Installing collected packages: py4j, pyspark\n",
            "Successfully installed py4j-0.10.9 pyspark-3.0.1\n"
          ],
          "name": "stdout"
        }
      ]
    },
    {
      "cell_type": "code",
      "metadata": {
        "colab": {
          "base_uri": "https://localhost:8080/",
          "height": 130
        },
        "id": "UJRJH3sB6XUB",
        "outputId": "9d61d598-86dc-4ab0-8075-23c9fc80fc7e"
      },
      "source": [
        "from pyspark import SparkContext"
      ],
      "execution_count": 4,
      "outputs": [
        {
          "output_type": "error",
          "ename": "SyntaxError",
          "evalue": "ignored",
          "traceback": [
            "\u001b[0;36m  File \u001b[0;32m\"<ipython-input-4-9ff888242a43>\"\u001b[0;36m, line \u001b[0;32m1\u001b[0m\n\u001b[0;31m    from pyspark import SparkContext()\u001b[0m\n\u001b[0m                                    ^\u001b[0m\n\u001b[0;31mSyntaxError\u001b[0m\u001b[0;31m:\u001b[0m invalid syntax\n"
          ]
        }
      ]
    },
    {
      "cell_type": "markdown",
      "metadata": {
        "id": "taixetgsAFxO"
      },
      "source": [
        "# Creating a Pair RDD from a list of Tuple"
      ]
    },
    {
      "cell_type": "code",
      "metadata": {
        "id": "AKLbOiNKAKa-"
      },
      "source": [
        "sc = SparkContext()"
      ],
      "execution_count": 5,
      "outputs": []
    },
    {
      "cell_type": "code",
      "metadata": {
        "id": "e_FpAL69ARRT"
      },
      "source": [
        "list_tuples = [('a', 1), ('b', 2), ('c', 3)]"
      ],
      "execution_count": 6,
      "outputs": []
    },
    {
      "cell_type": "code",
      "metadata": {
        "colab": {
          "base_uri": "https://localhost:8080/"
        },
        "id": "2jW-kM8hAX_a",
        "outputId": "bd2d3a28-9af3-40f5-b079-b636b3792704"
      },
      "source": [
        "list_tuples"
      ],
      "execution_count": 7,
      "outputs": [
        {
          "output_type": "execute_result",
          "data": {
            "text/plain": [
              "[('a', 1), ('b', 2), ('c', 3)]"
            ]
          },
          "metadata": {
            "tags": []
          },
          "execution_count": 7
        }
      ]
    },
    {
      "cell_type": "code",
      "metadata": {
        "id": "fHxuOFeUAZjt"
      },
      "source": [
        "pair_rdd = sc.parallelize(list_tuples)"
      ],
      "execution_count": 8,
      "outputs": []
    },
    {
      "cell_type": "code",
      "metadata": {
        "colab": {
          "base_uri": "https://localhost:8080/"
        },
        "id": "AGxumB6IAicy",
        "outputId": "40ed0a26-39ce-4bd1-f05c-83fa72464099"
      },
      "source": [
        "pair_rdd.collect()"
      ],
      "execution_count": 9,
      "outputs": [
        {
          "output_type": "execute_result",
          "data": {
            "text/plain": [
              "[('a', 1), ('b', 2), ('c', 3)]"
            ]
          },
          "metadata": {
            "tags": []
          },
          "execution_count": 9
        }
      ]
    },
    {
      "cell_type": "code",
      "metadata": {
        "id": "zd_PK83KAnuR"
      },
      "source": [
        " ## Utilizing zip()"
      ],
      "execution_count": 10,
      "outputs": []
    },
    {
      "cell_type": "code",
      "metadata": {
        "id": "C3NyZ87xAtSJ"
      },
      "source": [
        "pair_rdd2 = sc.parallelize(zip((['a','b','c']),range(1,4,1))) #start, stop, range "
      ],
      "execution_count": 13,
      "outputs": []
    },
    {
      "cell_type": "code",
      "metadata": {
        "id": "NPSXsKXUBBRW"
      },
      "source": [
        "?range # Show help adding ? before command"
      ],
      "execution_count": 36,
      "outputs": []
    },
    {
      "cell_type": "code",
      "metadata": {
        "colab": {
          "base_uri": "https://localhost:8080/"
        },
        "id": "PoQjJ_sxBEVC",
        "outputId": "e6d6862a-9ceb-49b3-d5ee-2cdbd91d091a"
      },
      "source": [
        "pair_rdd2.collect()"
      ],
      "execution_count": 14,
      "outputs": [
        {
          "output_type": "execute_result",
          "data": {
            "text/plain": [
              "[('a', 1), ('b', 2), ('c', 3)]"
            ]
          },
          "metadata": {
            "tags": []
          },
          "execution_count": 14
        }
      ]
    },
    {
      "cell_type": "code",
      "metadata": {
        "id": "8GglMBdhBbYA"
      },
      "source": [
        "## zip with two RDDs"
      ],
      "execution_count": 15,
      "outputs": []
    },
    {
      "cell_type": "code",
      "metadata": {
        "id": "2e6fTAOwCWJG"
      },
      "source": [
        "rdd1 = sc.parallelize(range(5),3)"
      ],
      "execution_count": 16,
      "outputs": []
    },
    {
      "cell_type": "code",
      "metadata": {
        "id": "UG8ia8y4Cbvv"
      },
      "source": [
        "rdd2 = sc.parallelize(range(100, 105, 1), 3) ## Both RDD must have the same number of partitions, in this case 3"
      ],
      "execution_count": 17,
      "outputs": []
    },
    {
      "cell_type": "code",
      "metadata": {
        "colab": {
          "base_uri": "https://localhost:8080/"
        },
        "id": "RXv1puevCjVW",
        "outputId": "f78cf285-0628-4dcf-d22f-b4c974f06a63"
      },
      "source": [
        "rdd1.glom().collect() ## Check partitions"
      ],
      "execution_count": 18,
      "outputs": [
        {
          "output_type": "execute_result",
          "data": {
            "text/plain": [
              "[[0], [1, 2], [3, 4]]"
            ]
          },
          "metadata": {
            "tags": []
          },
          "execution_count": 18
        }
      ]
    },
    {
      "cell_type": "code",
      "metadata": {
        "colab": {
          "base_uri": "https://localhost:8080/"
        },
        "id": "QVwbG6lfCmcx",
        "outputId": "4100a69f-89d8-40cd-cbbe-0f81507a2304"
      },
      "source": [
        "rdd2.glom().collect() "
      ],
      "execution_count": 19,
      "outputs": [
        {
          "output_type": "execute_result",
          "data": {
            "text/plain": [
              "[[100], [101, 102], [103, 104]]"
            ]
          },
          "metadata": {
            "tags": []
          },
          "execution_count": 19
        }
      ]
    },
    {
      "cell_type": "code",
      "metadata": {
        "id": "dlhX9BwqCoeN"
      },
      "source": [
        "pair_rdd =  rdd1.zip(rdd2)"
      ],
      "execution_count": 20,
      "outputs": []
    },
    {
      "cell_type": "code",
      "metadata": {
        "colab": {
          "base_uri": "https://localhost:8080/"
        },
        "id": "gmSo5P02Ct-A",
        "outputId": "83e32ad3-0351-4bfd-a62d-c1f2ee1e3cfb"
      },
      "source": [
        "pair_rdd.collect()"
      ],
      "execution_count": 21,
      "outputs": [
        {
          "output_type": "execute_result",
          "data": {
            "text/plain": [
              "[(0, 100), (1, 101), (2, 102), (3, 103), (4, 104)]"
            ]
          },
          "metadata": {
            "tags": []
          },
          "execution_count": 21
        }
      ]
    },
    {
      "cell_type": "code",
      "metadata": {
        "colab": {
          "base_uri": "https://localhost:8080/"
        },
        "id": "RiYfSSc2CvNw",
        "outputId": "cb623013-bd2d-4c7c-8927-b24de1c98b82"
      },
      "source": [
        "pair_rdd.glom().collect()"
      ],
      "execution_count": 24,
      "outputs": [
        {
          "output_type": "execute_result",
          "data": {
            "text/plain": [
              "[[(0, 100)], [(1, 101), (2, 102)], [(3, 103), (4, 104)]]"
            ]
          },
          "metadata": {
            "tags": []
          },
          "execution_count": 24
        }
      ]
    },
    {
      "cell_type": "code",
      "metadata": {
        "id": "C4JhNAOVC1m7"
      },
      "source": [
        "### Creating from a file, note: as we're using Codelab Runtime, files uploaded are not persisted after reload. Please head to: https://github.com/mrjhonyvidal/sparkLab/tree/master/pyspark/count_number_words_in_text to get the file La+Celestina.txt"
      ],
      "execution_count": 33,
      "outputs": []
    },
    {
      "cell_type": "code",
      "metadata": {
        "id": "4mooQOsGDC60"
      },
      "source": [
        "rdd_celestina = sc.textFile(\"La+Celestina.txt\") "
      ],
      "execution_count": 26,
      "outputs": []
    },
    {
      "cell_type": "code",
      "metadata": {
        "id": "AYWwEbpUDHjA"
      },
      "source": [
        "pair_rdd_celestina = rdd_celestina.map(lambda x: (x.split(\" \")[0],x))"
      ],
      "execution_count": 30,
      "outputs": []
    },
    {
      "cell_type": "code",
      "metadata": {
        "colab": {
          "base_uri": "https://localhost:8080/"
        },
        "id": "c9MrBflBDPWH",
        "outputId": "4a45e395-3525-4742-fa6c-0dfb7799bee7"
      },
      "source": [
        "pair_rdd_celestina.takeSample(False, 15)"
      ],
      "execution_count": 34,
      "outputs": [
        {
          "output_type": "execute_result",
          "data": {
            "text/plain": [
              "[('que', 'que nos escluya.'),\n",
              " ('se', 'se murmura de alguno, que sin haverlo advertido esta'),\n",
              " ('vozes',\n",
              "  'vozes como se dan.  De alla viene Sosia, el mozo despuelas: el me'),\n",
              " ('', ''),\n",
              " ('', ' \"cata que del buen pastor es propio tresquillar sus'),\n",
              " ('_de', '_de mas_ **** ademas'),\n",
              " ('de', 'de Minos, y la madre de Androgeo, de Ariadna y de'),\n",
              " ('hacerse', 'hacerse vino;'),\n",
              " ('_balde_', '_balde_ **** de balde: gratis;'),\n",
              " ('podenco', 'podenco'),\n",
              " ('', ''),\n",
              " ('alabando',\n",
              "  'alabando el consejo de Areusa: en este proposito. la qual va a'),\n",
              " ('_esperasse,', '_esperasse, esperasses _ **** esperase, esperases'),\n",
              " ('el', 'el sentido; el que tiene privanza;'),\n",
              " ('dado:',\n",
              "  'dado: cata que del buen pastor es propio tresquillar sus ouejas e')]"
            ]
          },
          "metadata": {
            "tags": []
          },
          "execution_count": 34
        }
      ]
    },
    {
      "cell_type": "code",
      "metadata": {
        "id": "7nzzfzpHDe_o"
      },
      "source": [
        "## Using KeyBy"
      ],
      "execution_count": 37,
      "outputs": []
    },
    {
      "cell_type": "code",
      "metadata": {
        "id": "M90BNlPNEPeR"
      },
      "source": [
        "rdd = sc.parallelize(range(5))"
      ],
      "execution_count": 40,
      "outputs": []
    },
    {
      "cell_type": "code",
      "metadata": {
        "colab": {
          "base_uri": "https://localhost:8080/"
        },
        "id": "qAidQkxpERDx",
        "outputId": "9b244eb4-5591-43e0-fd76-4c63e266496f"
      },
      "source": [
        "rdd.collect()"
      ],
      "execution_count": 41,
      "outputs": [
        {
          "output_type": "execute_result",
          "data": {
            "text/plain": [
              "[0, 1, 2, 3, 4]"
            ]
          },
          "metadata": {
            "tags": []
          },
          "execution_count": 41
        }
      ]
    },
    {
      "cell_type": "code",
      "metadata": {
        "id": "tcja-9B1EZfR"
      },
      "source": [
        "pair_rdd = rdd.keyBy(lambda x: x + 1)"
      ],
      "execution_count": 42,
      "outputs": []
    },
    {
      "cell_type": "code",
      "metadata": {
        "colab": {
          "base_uri": "https://localhost:8080/"
        },
        "id": "Aw8f8O6zEkOL",
        "outputId": "873cfc83-ef73-4931-a584-d045f0f9878e"
      },
      "source": [
        "pair_rdd.collect()"
      ],
      "execution_count": 43,
      "outputs": [
        {
          "output_type": "execute_result",
          "data": {
            "text/plain": [
              "[(1, 0), (2, 1), (3, 2), (4, 3), (5, 4)]"
            ]
          },
          "metadata": {
            "tags": []
          },
          "execution_count": 43
        }
      ]
    },
    {
      "cell_type": "code",
      "metadata": {
        "id": "9DsfXQDTElvN"
      },
      "source": [
        "## ZipWithIndex"
      ],
      "execution_count": 44,
      "outputs": []
    },
    {
      "cell_type": "code",
      "metadata": {
        "id": "NPH38Mz-Eybx"
      },
      "source": [
        "## ZipWithUniqueId()"
      ],
      "execution_count": 45,
      "outputs": []
    },
    {
      "cell_type": "code",
      "metadata": {
        "id": "FbmMERVhE1Az"
      },
      "source": [
        " "
      ],
      "execution_count": null,
      "outputs": []
    }
  ]
}